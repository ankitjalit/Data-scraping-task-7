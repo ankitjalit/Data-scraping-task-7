{
 "cells": [
  {
   "cell_type": "code",
   "execution_count": 12,
   "metadata": {},
   "outputs": [
    {
     "name": "stdout",
     "output_type": "stream",
     "text": [
      "Requirement already satisfied: requests in c:\\users\\arkit\\appdata\\local\\programs\\python\\python312\\lib\\site-packages (2.31.0)\n",
      "Collecting beautifulsoup4\n",
      "  Downloading beautifulsoup4-4.12.3-py3-none-any.whl.metadata (3.8 kB)\n",
      "Requirement already satisfied: charset-normalizer<4,>=2 in c:\\users\\arkit\\appdata\\local\\programs\\python\\python312\\lib\\site-packages (from requests) (3.3.2)\n",
      "Requirement already satisfied: idna<4,>=2.5 in c:\\users\\arkit\\appdata\\local\\programs\\python\\python312\\lib\\site-packages (from requests) (3.4)\n",
      "Requirement already satisfied: urllib3<3,>=1.21.1 in c:\\users\\arkit\\appdata\\local\\programs\\python\\python312\\lib\\site-packages (from requests) (2.1.0)\n",
      "Requirement already satisfied: certifi>=2017.4.17 in c:\\users\\arkit\\appdata\\local\\programs\\python\\python312\\lib\\site-packages (from requests) (2023.7.22)\n",
      "Requirement already satisfied: soupsieve>1.2 in c:\\users\\arkit\\appdata\\local\\programs\\python\\python312\\lib\\site-packages (from beautifulsoup4) (2.5)\n",
      "Downloading beautifulsoup4-4.12.3-py3-none-any.whl (147 kB)\n",
      "Installing collected packages: beautifulsoup4\n",
      "Successfully installed beautifulsoup4-4.12.3\n",
      "Note: you may need to restart the kernel to use updated packages.\n"
     ]
    }
   ],
   "source": [
    "pip install requests beautifulsoup4"
   ]
  },
  {
   "cell_type": "code",
   "execution_count": 17,
   "metadata": {},
   "outputs": [
    {
     "name": "stdout",
     "output_type": "stream",
     "text": [
      "1. A Light in the Attic\n",
      "2. Tipping the Velvet\n",
      "3. Soumission\n",
      "4. Sharp Objects\n",
      "5. Sapiens: A Brief History of Humankind\n",
      "6. The Requiem Red\n",
      "7. The Dirty Little Secrets of Getting Your Dream Job\n",
      "8. The Coming Woman: A Novel Based on the Life of the Infamous Feminist, Victoria Woodhull\n",
      "9. The Boys in the Boat: Nine Americans and Their Epic Quest for Gold at the 1936 Berlin Olympics\n",
      "10. The Black Maria\n",
      "11. Starving Hearts (Triangular Trade Trilogy, #1)\n",
      "12. Shakespeare's Sonnets\n",
      "13. Set Me Free\n",
      "14. Scott Pilgrim's Precious Little Life (Scott Pilgrim #1)\n",
      "15. Rip it Up and Start Again\n",
      "16. Our Band Could Be Your Life: Scenes from the American Indie Underground, 1981-1991\n",
      "17. Olio\n",
      "18. Mesaerion: The Best Science Fiction Stories 1800-1849\n",
      "19. Libertarianism for Beginners\n",
      "20. It's Only the Himalayas\n"
     ]
    }
   ],
   "source": [
    "import requests\n",
    "from bs4 import BeautifulSoup\n",
    "\n",
    "# The website URL\n",
    "url = 'https://books.toscrape.com/'\n",
    "\n",
    "# Send a request to fetch the HTML of the page\n",
    "response = requests.get(url)\n",
    "\n",
    "# Parse the HTML content using BeautifulSoup\n",
    "soup = BeautifulSoup(response.text, 'html.parser')\n",
    "\n",
    "# Find all book titles\n",
    "book_titles = soup.find_all('h3')\n",
    "\n",
    "# Extract and print all book titles\n",
    "titles = [title.a['title'] for title in book_titles]\n",
    "\n",
    "# Display the titles\n",
    "for i, title in enumerate(titles, 1):\n",
    "    print(f\"{i}. {title}\")\n"
   ]
  },
  {
   "cell_type": "code",
   "execution_count": 18,
   "metadata": {},
   "outputs": [
    {
     "name": "stdout",
     "output_type": "stream",
     "text": [
      "20. It's Only the Himalayas\n"
     ]
    }
   ],
   "source": [
    "    print(f\"{i}. {title}\")\n"
   ]
  },
  {
   "cell_type": "markdown",
   "metadata": {},
   "source": [
    "# How the Code Works:\n",
    "requests fetches the page's HTML.\n",
    "BeautifulSoup parses the HTML and finds all <h3> tags, which contain the book titles.\n",
    "The titles are extracted and printed out."
   ]
  }
 ],
 "metadata": {
  "kernelspec": {
   "display_name": "Python 3",
   "language": "python",
   "name": "python3"
  },
  "language_info": {
   "codemirror_mode": {
    "name": "ipython",
    "version": 3
   },
   "file_extension": ".py",
   "mimetype": "text/x-python",
   "name": "python",
   "nbconvert_exporter": "python",
   "pygments_lexer": "ipython3",
   "version": "3.12.5"
  }
 },
 "nbformat": 4,
 "nbformat_minor": 2
}
